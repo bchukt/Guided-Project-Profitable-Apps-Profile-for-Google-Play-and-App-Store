{
 "cells": [
  {
   "cell_type": "markdown",
   "metadata": {},
   "source": [
    "# Profitable App Profiles for the App Store and Google Play Markets\n",
    "\n",
    "Our goal for this project is to build data-driven analysis to assist the company's developers that builds Android and iOS mobile apps with making profitable decisions on understanding what type of application are likely to attract more users.\n",
    "\n",
    "At the company, we only build apps that are free to download and install, and the main revenue source consists of in-app ads, therefore, the number of users of our apps can greatly impact the incoming source of revenue."
   ]
  },
  {
   "cell_type": "markdown",
   "metadata": {},
   "source": [
    "As of September 2018, there were approximately 2 million iOS apps available on the App Store, and 2.1 million Android apps on Google Play.\n",
    "\n",
    "Collecting data for over four million apps requires a significant amount of time and money, so we'll try to analyze a sample of data instead. To avoid spending resources with collecting new data ourselves, we should first try to see whether we can find any relevant existing data at no cost. Luckily, these are two data sets that seem suitable for our purpose:\n",
    "\n",
    "* A data set containing data about approximately ten thousand Android apps from Google Play. You can download the data set directly from this link.\n",
    "* A data set containing data about approximately seven thousand iOS apps from the App Store. You can download the data set directly from this link.\n",
    "\n",
    "Let's start by opening the two data sets and then continue with exploring the data."
   ]
  },
  {
   "cell_type": "code",
   "execution_count": 1,
   "metadata": {
    "scrolled": false
   },
   "outputs": [
    {
     "name": "stdout",
     "output_type": "stream",
     "text": [
      "['id', 'track_name', 'size_bytes', 'currency', 'price', 'rating_count_tot', 'rating_count_ver', 'user_rating', 'user_rating_ver', 'ver', 'cont_rating', 'prime_genre', 'sup_devices.num', 'ipadSc_urls.num', 'lang.num', 'vpp_lic']\n",
      "\n",
      "\n",
      "['284882215', 'Facebook', '389879808', 'USD', '0.0', '2974676', '212', '3.5', '3.5', '95.0', '4+', 'Social Networking', '37', '1', '29', '1']\n",
      "\n",
      "\n",
      "['389801252', 'Instagram', '113954816', 'USD', '0.0', '2161558', '1289', '4.5', '4.0', '10.23', '12+', 'Photo & Video', '37', '0', '29', '1']\n",
      "\n",
      "\n",
      "['529479190', 'Clash of Clans', '116476928', 'USD', '0.0', '2130805', '579', '4.5', '4.5', '9.24.12', '9+', 'Games', '38', '5', '18', '1']\n",
      "\n",
      "\n",
      "['420009108', 'Temple Run', '65921024', 'USD', '0.0', '1724546', '3842', '4.5', '4.0', '1.6.2', '9+', 'Games', '40', '5', '1', '1']\n",
      "\n",
      "\n",
      "['284035177', 'Pandora - Music & Radio', '130242560', 'USD', '0.0', '1126879', '3594', '4.0', '4.5', '8.4.1', '12+', 'Music', '37', '4', '1', '1']\n",
      "\n",
      "\n",
      "Number of rows: 7197\n",
      "Number of columns: 16\n"
     ]
    }
   ],
   "source": [
    "from csv import reader\n",
    "\n",
    "# The Apple Store dataset\n",
    "opened_file = open('AppleStore.csv')\n",
    "read_file = reader(opened_file)\n",
    "apple_dataset = list(read_file)\n",
    "apple_header = apple_dataset[0]\n",
    "apple_dataset = apple_dataset[1:]\n",
    "\n",
    "# The Google Play store dataset\n",
    "opened_file = open('googleplaystore.csv')\n",
    "read_file = reader(opened_file)\n",
    "google_dataset = list(read_file)\n",
    "google_header = google_dataset[0]\n",
    "google_dataset = google_dataset[1:]\n",
    "\n",
    "def explore_data(dataset, start, end, rows_and_columns=False):\n",
    "    dataset_slice = dataset[start:end]    \n",
    "    for row in dataset_slice:\n",
    "        print(row)\n",
    "        print('\\n') # adds a new (empty) line after each row\n",
    "\n",
    "    if rows_and_columns:\n",
    "        print('Number of rows:', len(dataset))\n",
    "        print('Number of columns:', len(dataset[0]))\n",
    "\n",
    "\n",
    "print(apple_header)        \n",
    "print(\"\\n\")\n",
    "explore_data(apple_dataset,0,5, True)\n"
   ]
  },
  {
   "cell_type": "markdown",
   "metadata": {},
   "source": [
    "Apple Store dataset consists of 7197 rows (excluding the header) and 16 columns, of which we are going to select `track_name`, `price`, `size_bytes`, `rating_count_total`, `user_rating`, `cont_rating`, and `prime_genre`, as our main columns for the analysis"
   ]
  },
  {
   "cell_type": "code",
   "execution_count": 2,
   "metadata": {},
   "outputs": [
    {
     "name": "stdout",
     "output_type": "stream",
     "text": [
      "['App', 'Category', 'Rating', 'Reviews', 'Size', 'Installs', 'Type', 'Price', 'Content Rating', 'Genres', 'Last Updated', 'Current Ver', 'Android Ver']\n",
      "\n",
      "\n",
      "['Photo Editor & Candy Camera & Grid & ScrapBook', 'ART_AND_DESIGN', '4.1', '159', '19M', '10,000+', 'Free', '0', 'Everyone', 'Art & Design', 'January 7, 2018', '1.0.0', '4.0.3 and up']\n",
      "\n",
      "\n",
      "['Coloring book moana', 'ART_AND_DESIGN', '3.9', '967', '14M', '500,000+', 'Free', '0', 'Everyone', 'Art & Design;Pretend Play', 'January 15, 2018', '2.0.0', '4.0.3 and up']\n",
      "\n",
      "\n",
      "['U Launcher Lite – FREE Live Cool Themes, Hide Apps', 'ART_AND_DESIGN', '4.7', '87510', '8.7M', '5,000,000+', 'Free', '0', 'Everyone', 'Art & Design', 'August 1, 2018', '1.2.4', '4.0.3 and up']\n",
      "\n",
      "\n",
      "['Sketch - Draw & Paint', 'ART_AND_DESIGN', '4.5', '215644', '25M', '50,000,000+', 'Free', '0', 'Teen', 'Art & Design', 'June 8, 2018', 'Varies with device', '4.2 and up']\n",
      "\n",
      "\n",
      "['Pixel Draw - Number Art Coloring Book', 'ART_AND_DESIGN', '4.3', '967', '2.8M', '100,000+', 'Free', '0', 'Everyone', 'Art & Design;Creativity', 'June 20, 2018', '1.1', '4.4 and up']\n",
      "\n",
      "\n",
      "Number of rows: 10841\n",
      "Number of columns: 13\n"
     ]
    }
   ],
   "source": [
    "print(google_header)        \n",
    "print(\"\\n\")\n",
    "explore_data(google_dataset,0,5, True)"
   ]
  },
  {
   "cell_type": "markdown",
   "metadata": {},
   "source": [
    "Google Store dataset consists of 10841 (excluding the header) and 13 columns, of which we are going to select `Apps`, `price`, `reviews`, `size`, `Installs`, `content rating`, and `Genre`, as our main columns for the analysis."
   ]
  },
  {
   "cell_type": "markdown",
   "metadata": {},
   "source": [
    "**Deleting Wrong Data**\n",
    "\n",
    "The Google Play dataset has a dedicated [discussion section](https://www.kaggle.com/lava18/google-play-store-apps/discussion), and we can see that [one of the discussions](https://www.kaggle.com/lava18/google-play-store-apps/discussion/66015) describes an error for a certain row. "
   ]
  },
  {
   "cell_type": "code",
   "execution_count": 3,
   "metadata": {},
   "outputs": [
    {
     "name": "stdout",
     "output_type": "stream",
     "text": [
      "['App', 'Category', 'Rating', 'Reviews', 'Size', 'Installs', 'Type', 'Price', 'Content Rating', 'Genres', 'Last Updated', 'Current Ver', 'Android Ver']\n",
      "\n",
      "\n",
      "['Life Made WI-Fi Touchscreen Photo Frame', '1.9', '19', '3.0M', '1,000+', 'Free', '0', 'Everyone', '', 'February 11, 2018', '1.0.19', '4.0 and up']\n",
      "\n",
      "\n",
      "Correct Row: \n",
      " ['Photo Editor & Candy Camera & Grid & ScrapBook', 'ART_AND_DESIGN', '4.1', '159', '19M', '10,000+', 'Free', '0', 'Everyone', 'Art & Design', 'January 7, 2018', '1.0.0', '4.0.3 and up']\n"
     ]
    }
   ],
   "source": [
    "print(google_header) \n",
    "print('\\n')\n",
    "print(google_dataset[10472])\n",
    "print('\\n')\n",
    "print('Correct Row:','\\n', google_dataset[0])\n",
    "      "
   ]
  },
  {
   "cell_type": "markdown",
   "metadata": {},
   "source": [
    "The row 10472nd's list contains 12 elements, whereas the correct row would have 13, we can see that row 10472nd misses the value in `Category` column , as a consequence, we are going to delete this row. "
   ]
  },
  {
   "cell_type": "code",
   "execution_count": 4,
   "metadata": {},
   "outputs": [
    {
     "name": "stdout",
     "output_type": "stream",
     "text": [
      "10841\n",
      "10840\n"
     ]
    }
   ],
   "source": [
    "print(len(google_dataset))\n",
    "del google_dataset[10472]  # don't run this more than once\n",
    "print(len(google_dataset))"
   ]
  },
  {
   "cell_type": "markdown",
   "metadata": {},
   "source": [
    "**Removing Duplicate Entries**\n",
    "\n",
    "**Part One**\n",
    "\n",
    "Some apps have duplicate entries. We need to remove the duplicate entries and keep only one per app. For instance, Instagram has 4 different entries:\n",
    "\n"
   ]
  },
  {
   "cell_type": "code",
   "execution_count": 5,
   "metadata": {},
   "outputs": [
    {
     "name": "stdout",
     "output_type": "stream",
     "text": [
      "['Instagram', 'SOCIAL', '4.5', '66577313', 'Varies with device', '1,000,000,000+', 'Free', '0', 'Teen', 'Social', 'July 31, 2018', 'Varies with device', 'Varies with device']\n",
      "['Instagram', 'SOCIAL', '4.5', '66577446', 'Varies with device', '1,000,000,000+', 'Free', '0', 'Teen', 'Social', 'July 31, 2018', 'Varies with device', 'Varies with device']\n",
      "['Instagram', 'SOCIAL', '4.5', '66577313', 'Varies with device', '1,000,000,000+', 'Free', '0', 'Teen', 'Social', 'July 31, 2018', 'Varies with device', 'Varies with device']\n",
      "['Instagram', 'SOCIAL', '4.5', '66509917', 'Varies with device', '1,000,000,000+', 'Free', '0', 'Teen', 'Social', 'July 31, 2018', 'Varies with device', 'Varies with device']\n"
     ]
    }
   ],
   "source": [
    "for app in google_dataset:\n",
    "    name = app[0]\n",
    "    if name == 'Instagram':\n",
    "        print(app)"
   ]
  },
  {
   "cell_type": "code",
   "execution_count": 6,
   "metadata": {},
   "outputs": [
    {
     "name": "stdout",
     "output_type": "stream",
     "text": [
      "Numbers of duplicated apps:  1181\n",
      "\n",
      "\n",
      "Example of duplicate apps:  ['Quick PDF Scanner + OCR FREE', 'Box', 'Google My Business', 'ZOOM Cloud Meetings', 'join.me - Simple Meetings', 'Box', 'Zenefits', 'Google Ads', 'Google My Business', 'Slack']\n"
     ]
    }
   ],
   "source": [
    "google_unique_app = []\n",
    "google_duplicate_app = []\n",
    "for row in google_dataset:\n",
    "    app_name = row[0]\n",
    "    if app_name in google_unique_app:\n",
    "        google_duplicate_app.append(app_name)\n",
    "    else:\n",
    "        google_unique_app.append(app_name)\n",
    "print('Numbers of duplicated apps: ', len(google_duplicate_app))\n",
    "print('\\n')\n",
    "print('Example of duplicate apps: ', google_duplicate_app[:10])"
   ]
  },
  {
   "cell_type": "markdown",
   "metadata": {},
   "source": [
    "**Part Two**\n",
    "\n",
    "If we examine the rows we printed for the Instagram app, the main difference happens on the fourth position of each row, which corresponds to the number of reviews. The different numbers show the data was collected at different times. Thus, we want to keep the row with highest number of reviews since it means the data is most recent. \n",
    "\n",
    "To remove the duplicates, we will do the following:\n",
    "* Create a dictionary, where each dictionary key is a unique app name and the corresponding dictionary value is the highest number of reviews of that app.\n",
    "\n",
    "* Use the information stored in the dictionary and create a new dataset, which will have only one entry per app (and for each app, we'll only select the entry with the highest number of reviews)."
   ]
  },
  {
   "cell_type": "code",
   "execution_count": 7,
   "metadata": {},
   "outputs": [],
   "source": [
    "reviews_max = {}\n",
    "for row in google_dataset:\n",
    "    name = row[0]\n",
    "    reviews = float(row[3])\n",
    "    if name in reviews_max and reviews_max[name] < reviews:\n",
    "        reviews_max[name] = reviews\n",
    "    elif name not in reviews_max:\n",
    "        reviews_max[name] = reviews\n",
    "\n",
    "            "
   ]
  },
  {
   "cell_type": "markdown",
   "metadata": {},
   "source": [
    "In a previous code cell, we found that there are 1,181 cases where an app occurs more than once, so the length of our dictionary (of unique apps) should be equal to the difference between the length of our data set and 1,181."
   ]
  },
  {
   "cell_type": "code",
   "execution_count": 8,
   "metadata": {},
   "outputs": [
    {
     "name": "stdout",
     "output_type": "stream",
     "text": [
      "Actual length:  9659\n"
     ]
    }
   ],
   "source": [
    "print('Actual length: ', len(reviews_max))"
   ]
  },
  {
   "cell_type": "markdown",
   "metadata": {},
   "source": [
    "Now, let's use the `reviews_max` dictionary to remove the duplicates. For the duplicate cases, we'll only keep the entries with the highest number of reviews. In the code cell below:\n",
    "\n",
    "* We start by initializing two empty lists, `google_clean` and `already_added`.\n",
    "* We loop through the google data set, and for every iteration:\n",
    "    * We isolate the name of the app and the number of reviews.\n",
    "    * We add the current row (`row`) to the `google_clean` list, and the app name (`name`) to the `already_added` list if:\n",
    "    * The number of reviews of the current app matches the number of reviews of that app as described in the `reviews_max` dictionary; and\n",
    "    * The name of the app is not already in the `already_added` list. We need to add this supplementary condition to account for those cases where the highest number of reviews of a duplicate app is the same for more than one entry (for example, the Box app has three entries, and the number of reviews is the same). If we just check for `reviews_max[name] == n_reviews`, we'll still end up with duplicate entries for some apps."
   ]
  },
  {
   "cell_type": "code",
   "execution_count": 9,
   "metadata": {},
   "outputs": [
    {
     "name": "stdout",
     "output_type": "stream",
     "text": [
      "['Photo Editor & Candy Camera & Grid & ScrapBook', 'ART_AND_DESIGN', '4.1', '159', '19M', '10,000+', 'Free', '0', 'Everyone', 'Art & Design', 'January 7, 2018', '1.0.0', '4.0.3 and up']\n",
      "\n",
      "\n",
      "['U Launcher Lite – FREE Live Cool Themes, Hide Apps', 'ART_AND_DESIGN', '4.7', '87510', '8.7M', '5,000,000+', 'Free', '0', 'Everyone', 'Art & Design', 'August 1, 2018', '1.2.4', '4.0.3 and up']\n",
      "\n",
      "\n",
      "['Sketch - Draw & Paint', 'ART_AND_DESIGN', '4.5', '215644', '25M', '50,000,000+', 'Free', '0', 'Teen', 'Art & Design', 'June 8, 2018', 'Varies with device', '4.2 and up']\n",
      "\n",
      "\n",
      "['Pixel Draw - Number Art Coloring Book', 'ART_AND_DESIGN', '4.3', '967', '2.8M', '100,000+', 'Free', '0', 'Everyone', 'Art & Design;Creativity', 'June 20, 2018', '1.1', '4.4 and up']\n",
      "\n",
      "\n",
      "['Paper flowers instructions', 'ART_AND_DESIGN', '4.4', '167', '5.6M', '50,000+', 'Free', '0', 'Everyone', 'Art & Design', 'March 26, 2017', '1.0', '2.3 and up']\n",
      "\n",
      "\n",
      "Number of rows: 9659\n",
      "Number of columns: 13\n"
     ]
    }
   ],
   "source": [
    "google_clean = [] #store new dataset\n",
    "already_added = [] #store app names\n",
    "\n",
    "for row in google_dataset:\n",
    "    name = row[0]\n",
    "    reviews = float(row[3])\n",
    "    if reviews == reviews_max[name] and name not in already_added:\n",
    "        google_clean.append(row)\n",
    "        already_added.append(name)\n",
    "\n",
    "explore_data(google_clean,0,5,True)"
   ]
  },
  {
   "cell_type": "markdown",
   "metadata": {},
   "source": [
    "**Removing Non-English Apps**\n",
    "\n",
    "**Part One**\n",
    "\n",
    "Remember we use English for the apps we develop at our company, and we'd like to analyze only the apps that are designed for an English-speaking audience. However, if we explore the data long enough, we'll find that both datasets have apps with names that suggest they are not designed for an English-speaking audience.\n",
    "\n",
    "Each character we use in a string has a corresponding number associated with it. For instance, the corresponding number for character 'a' is 97, character 'A' is 65, and character '爱' is 29,233. We can get the corresponding number of each character using the `ord()` built-in function.\n",
    "\n",
    "The numbers corresponding to the characters we commonly use in an English text are all in the range 0 to 127, according to the ASCII (American Standard Code for Information Interchange) system. Based on this number range, we can build a function that detects whether a character belongs to the set of common English characters or not. If the number is equal to or less than 127, then the character belongs to the set of common English characters.\n",
    "\n",
    "To minimize the impact of data loss, we'll only remove an app if its name has more than three characters with corresponding numbers falling outside the ASCII range."
   ]
  },
  {
   "cell_type": "code",
   "execution_count": 10,
   "metadata": {},
   "outputs": [
    {
     "name": "stdout",
     "output_type": "stream",
     "text": [
      "False\n",
      "True\n",
      "True\n",
      "True\n"
     ]
    }
   ],
   "source": [
    "def eng_chr(string):\n",
    "    non_eng_chr = 0\n",
    "    for character in string:\n",
    "        if ord(character) > 127:\n",
    "            non_eng_chr += 1\n",
    "    if non_eng_chr > 3:\n",
    "        return False\n",
    "    else:\n",
    "        return True\n",
    "\n",
    "print(eng_chr(\"爱奇艺PPS -《欢乐颂2》电视剧热播\"))\n",
    "print(eng_chr('Instagram'))\n",
    "print(eng_chr('Docs To Go™ Free Office Suite'))\n",
    "print(eng_chr('Instachat 😜'))"
   ]
  },
  {
   "cell_type": "code",
   "execution_count": 11,
   "metadata": {},
   "outputs": [
    {
     "name": "stdout",
     "output_type": "stream",
     "text": [
      "['Photo Editor & Candy Camera & Grid & ScrapBook', 'ART_AND_DESIGN', '4.1', '159', '19M', '10,000+', 'Free', '0', 'Everyone', 'Art & Design', 'January 7, 2018', '1.0.0', '4.0.3 and up']\n",
      "\n",
      "\n",
      "['U Launcher Lite – FREE Live Cool Themes, Hide Apps', 'ART_AND_DESIGN', '4.7', '87510', '8.7M', '5,000,000+', 'Free', '0', 'Everyone', 'Art & Design', 'August 1, 2018', '1.2.4', '4.0.3 and up']\n",
      "\n",
      "\n",
      "['Sketch - Draw & Paint', 'ART_AND_DESIGN', '4.5', '215644', '25M', '50,000,000+', 'Free', '0', 'Teen', 'Art & Design', 'June 8, 2018', 'Varies with device', '4.2 and up']\n",
      "\n",
      "\n",
      "Number of rows: 9614\n",
      "Number of columns: 13\n",
      "['284882215', 'Facebook', '389879808', 'USD', '0.0', '2974676', '212', '3.5', '3.5', '95.0', '4+', 'Social Networking', '37', '1', '29', '1']\n",
      "\n",
      "\n",
      "['389801252', 'Instagram', '113954816', 'USD', '0.0', '2161558', '1289', '4.5', '4.0', '10.23', '12+', 'Photo & Video', '37', '0', '29', '1']\n",
      "\n",
      "\n",
      "['529479190', 'Clash of Clans', '116476928', 'USD', '0.0', '2130805', '579', '4.5', '4.5', '9.24.12', '9+', 'Games', '38', '5', '18', '1']\n",
      "\n",
      "\n",
      "Number of rows: 6183\n",
      "Number of columns: 16\n"
     ]
    }
   ],
   "source": [
    "google_english = []\n",
    "apple_english = []\n",
    "\n",
    "for row in google_clean:\n",
    "    name = row[0]\n",
    "    if eng_chr(name):\n",
    "        google_english.append(row)\n",
    "\n",
    "for row in apple_dataset:\n",
    "    name = row[1]\n",
    "    if eng_chr(name):\n",
    "        apple_english.append(row)\n",
    "\n",
    "explore_data(google_english, 0, 3, True)\n",
    "explore_data(apple_english, 0, 3, True)"
   ]
  },
  {
   "cell_type": "markdown",
   "metadata": {},
   "source": [
    "**Isolating Free Apps**\n",
    "\n",
    "In this project, we are only building apps that are free to download and install, and our main source of revenue consists of in-app ads. Our dataset contains both free and non-free apps; we only need to keep the ones with no cost for our analysis."
   ]
  },
  {
   "cell_type": "code",
   "execution_count": 12,
   "metadata": {},
   "outputs": [
    {
     "name": "stdout",
     "output_type": "stream",
     "text": [
      "['Photo Editor & Candy Camera & Grid & ScrapBook', 'ART_AND_DESIGN', '4.1', '159', '19M', '10,000+', 'Free', '0', 'Everyone', 'Art & Design', 'January 7, 2018', '1.0.0', '4.0.3 and up']\n",
      "\n",
      "\n",
      "['U Launcher Lite – FREE Live Cool Themes, Hide Apps', 'ART_AND_DESIGN', '4.7', '87510', '8.7M', '5,000,000+', 'Free', '0', 'Everyone', 'Art & Design', 'August 1, 2018', '1.2.4', '4.0.3 and up']\n",
      "\n",
      "\n",
      "['Sketch - Draw & Paint', 'ART_AND_DESIGN', '4.5', '215644', '25M', '50,000,000+', 'Free', '0', 'Teen', 'Art & Design', 'June 8, 2018', 'Varies with device', '4.2 and up']\n",
      "\n",
      "\n",
      "['Pixel Draw - Number Art Coloring Book', 'ART_AND_DESIGN', '4.3', '967', '2.8M', '100,000+', 'Free', '0', 'Everyone', 'Art & Design;Creativity', 'June 20, 2018', '1.1', '4.4 and up']\n",
      "\n",
      "\n",
      "['Paper flowers instructions', 'ART_AND_DESIGN', '4.4', '167', '5.6M', '50,000+', 'Free', '0', 'Everyone', 'Art & Design', 'March 26, 2017', '1.0', '2.3 and up']\n",
      "\n",
      "\n",
      "['Smoke Effect Photo Maker - Smoke Editor', 'ART_AND_DESIGN', '3.8', '178', '19M', '50,000+', 'Free', '0', 'Everyone', 'Art & Design', 'April 26, 2018', '1.1', '4.0.3 and up']\n",
      "\n",
      "\n",
      "Number of rows: 8864\n",
      "Number of columns: 13\n",
      "['284882215', 'Facebook', '389879808', 'USD', '0.0', '2974676', '212', '3.5', '3.5', '95.0', '4+', 'Social Networking', '37', '1', '29', '1']\n",
      "\n",
      "\n",
      "['389801252', 'Instagram', '113954816', 'USD', '0.0', '2161558', '1289', '4.5', '4.0', '10.23', '12+', 'Photo & Video', '37', '0', '29', '1']\n",
      "\n",
      "\n",
      "['529479190', 'Clash of Clans', '116476928', 'USD', '0.0', '2130805', '579', '4.5', '4.5', '9.24.12', '9+', 'Games', '38', '5', '18', '1']\n",
      "\n",
      "\n",
      "['420009108', 'Temple Run', '65921024', 'USD', '0.0', '1724546', '3842', '4.5', '4.0', '1.6.2', '9+', 'Games', '40', '5', '1', '1']\n",
      "\n",
      "\n",
      "['284035177', 'Pandora - Music & Radio', '130242560', 'USD', '0.0', '1126879', '3594', '4.0', '4.5', '8.4.1', '12+', 'Music', '37', '4', '1', '1']\n",
      "\n",
      "\n",
      "['429047995', 'Pinterest', '74778624', 'USD', '0.0', '1061624', '1814', '4.5', '4.0', '6.26', '12+', 'Social Networking', '37', '5', '27', '1']\n",
      "\n",
      "\n",
      "Number of rows: 3222\n",
      "Number of columns: 16\n"
     ]
    }
   ],
   "source": [
    "google_free_dataset = [row for row in google_english if row[7] == '0']\n",
    "apple_free_dataset = [row for row in apple_english if row[4] == '0.0']\n",
    "google_dataset = google_free_dataset\n",
    "apple_dataset = apple_free_dataset\n",
    "explore_data(google_dataset,0,6,True)\n",
    "explore_data(apple_dataset,0,6,True)\n",
    "\n",
    "        "
   ]
  },
  {
   "cell_type": "markdown",
   "metadata": {},
   "source": [
    "**Most Common Apps by Genre** \n",
    "\n",
    "**Part One**\n",
    "\n",
    "So far in the data cleaning process, we've done the following:\n",
    "* Removed inaccurate data\n",
    "* Removed duplicate app entries\n",
    "* Removed non-English apps\n",
    "* Isoating the free apps\n",
    "\n",
    "As mentioned, our goal is to determine the kinds of apps that are likely to attract more users since our revenue is tied directly to the number of people using our apps.\n",
    "\n",
    "In order to find the most appealing and attractive app to users, we need to look the one that is the most successful among Google Play market and Apple Store market. Thus, we come up with a validation strategy entails 3 steps:\n",
    "\n",
    "1. Build a minimal Android version of the app, and add it to Google Play - because there are relatively more data and users available in Google Play store market.\n",
    "\n",
    "2. If the app has good response from users, we develop it further - when the app is popular at certain extent, users will expect a better developed version to be released.\n",
    "\n",
    "3. If the app is profitable after six months, we build an iOS version of the app and add it to the App Store - to expand our market, attract more users from iOS platform and ultimately generate more revenue.\n",
    "\n",
    "\n",
    "After inspecting both Google Play and Apple store dataset, we decided to generate the frequency table using the `Category` and `Genre` column in Google dataset and `prime_genre` column in Apple store dataset.\n"
   ]
  },
  {
   "cell_type": "markdown",
   "metadata": {},
   "source": [
    "**Part Two**\n",
    "\n",
    "To help with analyzing the frequency tables, first we are going to build a a function to generate frequency tables that show percentages."
   ]
  },
  {
   "cell_type": "code",
   "execution_count": 13,
   "metadata": {
    "scrolled": true
   },
   "outputs": [],
   "source": [
    "# Function to generate frequency tables that show percentages:\n",
    "\n",
    "def freq_table(dataset, col_index):\n",
    "    dataset_dict = {}\n",
    "    for row in dataset:\n",
    "        key = row[col_index]\n",
    "        if key in dataset_dict:\n",
    "            dataset_dict[key] += 1\n",
    "        else:\n",
    "            dataset_dict[key] = 1\n",
    "    \n",
    "    for key in dataset_dict:\n",
    "        percentage = (dataset_dict[key] / len(dataset)) * 100\n",
    "        dataset_dict[key] = '{0:.2f}'.format(percentage)\n",
    "        \n",
    "    return dataset_dict\n",
    "\n",
    "\n",
    "google_category = freq_table(google_dataset, 1)\n",
    "google_genre = freq_table(google_dataset, 9)\n",
    "apple_genre = freq_table(apple_dataset, 11)\n",
    "\n"
   ]
  },
  {
   "cell_type": "markdown",
   "metadata": {},
   "source": [
    "Next step, we are going to set up a function that takes in a dataset and a column index to return a display table with a percentage associated with a single category or genre in a descending order."
   ]
  },
  {
   "cell_type": "code",
   "execution_count": 14,
   "metadata": {
    "scrolled": false
   },
   "outputs": [],
   "source": [
    "def display_table(dataset, index):\n",
    "    table = freq_table(dataset, index)\n",
    "    table_display = []\n",
    "    for key in table:\n",
    "        key_val_as_tuple = (table[key], key)\n",
    "        table_display.append(key_val_as_tuple)\n",
    "        \n",
    "    table_sorted = sorted(table_display, reverse = True)\n",
    "    for entry in table_sorted:\n",
    "        print(entry[1], ':', entry[0])"
   ]
  },
  {
   "cell_type": "markdown",
   "metadata": {},
   "source": [
    "**Part Three**"
   ]
  },
  {
   "cell_type": "code",
   "execution_count": 15,
   "metadata": {
    "scrolled": true
   },
   "outputs": [
    {
     "name": "stdout",
     "output_type": "stream",
     "text": [
      "Entertainment : 7.88\n",
      "Games : 58.16\n",
      "Photo & Video : 4.97\n",
      "Education : 3.66\n",
      "Social Networking : 3.29\n",
      "Shopping : 2.61\n",
      "Utilities : 2.51\n",
      "Sports : 2.14\n",
      "Music : 2.05\n",
      "Health & Fitness : 2.02\n",
      "Productivity : 1.74\n",
      "Lifestyle : 1.58\n",
      "News : 1.33\n",
      "Travel : 1.24\n",
      "Finance : 1.12\n",
      "Weather : 0.87\n",
      "Food & Drink : 0.81\n",
      "Reference : 0.56\n",
      "Business : 0.53\n",
      "Book : 0.43\n",
      "Navigation : 0.19\n",
      "Medical : 0.19\n",
      "Catalogs : 0.12\n"
     ]
    }
   ],
   "source": [
    "display_table(apple_dataset, -5)"
   ]
  },
  {
   "cell_type": "markdown",
   "metadata": {},
   "source": [
    "After running the function display table on App Store dataset, we could come to understand the following:\n",
    "\n",
    "* The most common genre in the market is **Games** with 58.16% appearance, way far more compared to the next common genre which is Entertainment with 7.88%.\n",
    "\n",
    "* Most of the apps are designed for entertainment purposes such as Games, social Networking, Shopping, Photo & Video,... This is more likely due to the scalability and easily accessible of those particular applications genre, they are meant to reach as much users as possible\n",
    "\n",
    "* According to the data we find within the App Store dataset, we have promissing expectation that building an application in Games genre would most likely attract more users due to the huge gap between the Games genre and others.\n",
    "\n",
    "\n",
    "Let's continue to examnie the `Genre` and `Category` column on Google Play data set:"
   ]
  },
  {
   "cell_type": "code",
   "execution_count": 16,
   "metadata": {
    "scrolled": true
   },
   "outputs": [
    {
     "name": "stdout",
     "output_type": "stream",
     "text": [
      "GAME : 9.72\n",
      "TOOLS : 8.46\n",
      "BUSINESS : 4.59\n",
      "LIFESTYLE : 3.90\n",
      "PRODUCTIVITY : 3.89\n",
      "FINANCE : 3.70\n",
      "MEDICAL : 3.53\n",
      "SPORTS : 3.40\n",
      "PERSONALIZATION : 3.32\n",
      "COMMUNICATION : 3.24\n",
      "HEALTH_AND_FITNESS : 3.08\n",
      "PHOTOGRAPHY : 2.94\n",
      "NEWS_AND_MAGAZINES : 2.80\n",
      "SOCIAL : 2.66\n",
      "TRAVEL_AND_LOCAL : 2.34\n",
      "SHOPPING : 2.25\n",
      "BOOKS_AND_REFERENCE : 2.14\n",
      "FAMILY : 18.91\n",
      "DATING : 1.86\n",
      "VIDEO_PLAYERS : 1.79\n",
      "MAPS_AND_NAVIGATION : 1.40\n",
      "FOOD_AND_DRINK : 1.24\n",
      "EDUCATION : 1.16\n",
      "ENTERTAINMENT : 0.96\n",
      "LIBRARIES_AND_DEMO : 0.94\n",
      "AUTO_AND_VEHICLES : 0.93\n",
      "HOUSE_AND_HOME : 0.82\n",
      "WEATHER : 0.80\n",
      "EVENTS : 0.71\n",
      "PARENTING : 0.65\n",
      "ART_AND_DESIGN : 0.64\n",
      "COMICS : 0.62\n",
      "BEAUTY : 0.60\n"
     ]
    }
   ],
   "source": [
    "display_table(google_dataset, 1)"
   ]
  },
  {
   "cell_type": "code",
   "execution_count": 17,
   "metadata": {},
   "outputs": [
    {
     "name": "stdout",
     "output_type": "stream",
     "text": [
      "Tools : 8.45\n",
      "Entertainment : 6.07\n",
      "Education : 5.35\n",
      "Business : 4.59\n",
      "Productivity : 3.89\n",
      "Lifestyle : 3.89\n",
      "Finance : 3.70\n",
      "Medical : 3.53\n",
      "Sports : 3.46\n",
      "Personalization : 3.32\n",
      "Communication : 3.24\n",
      "Action : 3.10\n",
      "Health & Fitness : 3.08\n",
      "Photography : 2.94\n",
      "News & Magazines : 2.80\n",
      "Social : 2.66\n",
      "Travel & Local : 2.32\n",
      "Shopping : 2.25\n",
      "Books & Reference : 2.14\n",
      "Simulation : 2.04\n",
      "Dating : 1.86\n",
      "Arcade : 1.85\n",
      "Video Players & Editors : 1.77\n",
      "Casual : 1.76\n",
      "Maps & Navigation : 1.40\n",
      "Food & Drink : 1.24\n",
      "Puzzle : 1.13\n",
      "Racing : 0.99\n",
      "Role Playing : 0.94\n",
      "Libraries & Demo : 0.94\n",
      "Auto & Vehicles : 0.93\n",
      "Strategy : 0.91\n",
      "House & Home : 0.82\n",
      "Weather : 0.80\n",
      "Events : 0.71\n",
      "Adventure : 0.68\n",
      "Comics : 0.61\n",
      "Beauty : 0.60\n",
      "Art & Design : 0.60\n",
      "Parenting : 0.50\n",
      "Card : 0.45\n",
      "Casino : 0.43\n",
      "Trivia : 0.42\n",
      "Educational;Education : 0.39\n",
      "Board : 0.38\n",
      "Educational : 0.37\n",
      "Education;Education : 0.34\n",
      "Word : 0.26\n",
      "Casual;Pretend Play : 0.24\n",
      "Music : 0.20\n",
      "Racing;Action & Adventure : 0.17\n",
      "Puzzle;Brain Games : 0.17\n",
      "Entertainment;Music & Video : 0.17\n",
      "Casual;Brain Games : 0.14\n",
      "Casual;Action & Adventure : 0.14\n",
      "Arcade;Action & Adventure : 0.12\n",
      "Action;Action & Adventure : 0.10\n",
      "Educational;Pretend Play : 0.09\n",
      "Simulation;Action & Adventure : 0.08\n",
      "Parenting;Education : 0.08\n",
      "Entertainment;Brain Games : 0.08\n",
      "Board;Brain Games : 0.08\n",
      "Parenting;Music & Video : 0.07\n",
      "Educational;Brain Games : 0.07\n",
      "Casual;Creativity : 0.07\n",
      "Art & Design;Creativity : 0.07\n",
      "Education;Pretend Play : 0.06\n",
      "Role Playing;Pretend Play : 0.05\n",
      "Education;Creativity : 0.05\n",
      "Role Playing;Action & Adventure : 0.03\n",
      "Puzzle;Action & Adventure : 0.03\n",
      "Entertainment;Creativity : 0.03\n",
      "Entertainment;Action & Adventure : 0.03\n",
      "Educational;Creativity : 0.03\n",
      "Educational;Action & Adventure : 0.03\n",
      "Education;Music & Video : 0.03\n",
      "Education;Brain Games : 0.03\n",
      "Education;Action & Adventure : 0.03\n",
      "Adventure;Action & Adventure : 0.03\n",
      "Video Players & Editors;Music & Video : 0.02\n",
      "Sports;Action & Adventure : 0.02\n",
      "Simulation;Pretend Play : 0.02\n",
      "Puzzle;Creativity : 0.02\n",
      "Music;Music & Video : 0.02\n",
      "Entertainment;Pretend Play : 0.02\n",
      "Casual;Education : 0.02\n",
      "Board;Action & Adventure : 0.02\n",
      "Video Players & Editors;Creativity : 0.01\n",
      "Trivia;Education : 0.01\n",
      "Travel & Local;Action & Adventure : 0.01\n",
      "Tools;Education : 0.01\n",
      "Strategy;Education : 0.01\n",
      "Strategy;Creativity : 0.01\n",
      "Strategy;Action & Adventure : 0.01\n",
      "Simulation;Education : 0.01\n",
      "Role Playing;Brain Games : 0.01\n",
      "Racing;Pretend Play : 0.01\n",
      "Puzzle;Education : 0.01\n",
      "Parenting;Brain Games : 0.01\n",
      "Music & Audio;Music & Video : 0.01\n",
      "Lifestyle;Pretend Play : 0.01\n",
      "Lifestyle;Education : 0.01\n",
      "Health & Fitness;Education : 0.01\n",
      "Health & Fitness;Action & Adventure : 0.01\n",
      "Entertainment;Education : 0.01\n",
      "Communication;Creativity : 0.01\n",
      "Comics;Creativity : 0.01\n",
      "Casual;Music & Video : 0.01\n",
      "Card;Action & Adventure : 0.01\n",
      "Books & Reference;Education : 0.01\n",
      "Art & Design;Pretend Play : 0.01\n",
      "Art & Design;Action & Adventure : 0.01\n",
      "Arcade;Pretend Play : 0.01\n",
      "Adventure;Education : 0.01\n"
     ]
    }
   ],
   "source": [
    "display_table(google_dataset, 9)"
   ]
  },
  {
   "cell_type": "markdown",
   "metadata": {},
   "source": [
    "As we can see from both tables of `Category` and `Genre`, **Games** apps is no longer dominating, there is a fair and equal amount of apps accorss the market for both for-fun and practical apps.\n",
    "\n",
    "Now we are going to analyze which type of apps would attract most users."
   ]
  },
  {
   "cell_type": "markdown",
   "metadata": {},
   "source": [
    "**Most Popular Apps by Genre on the App Store**\n",
    "\n",
    "To find out what genres are the most popular, is to calculate the average number of installs for each app genre. We can find this information under the `Installs` column in Google data set. Whereas for Apple Store data set, we'll take the total number of user ratings as a proxy, which we can find in the `rating_count_tot` column.\n",
    "\n",
    "We'll calculate the average number of user ratings per app genre on the Appe Store:"
   ]
  },
  {
   "cell_type": "code",
   "execution_count": 18,
   "metadata": {
    "scrolled": true
   },
   "outputs": [
    {
     "name": "stdout",
     "output_type": "stream",
     "text": [
      "Social Networking : 71548.35\n",
      "Photo & Video : 28441.54\n",
      "Games : 22788.67\n",
      "Music : 57326.53\n",
      "Reference : 74942.11\n",
      "Health & Fitness : 23298.02\n",
      "Weather : 52279.89\n",
      "Utilities : 18684.46\n",
      "Travel : 28243.80\n",
      "Shopping : 26919.69\n",
      "News : 21248.02\n",
      "Navigation : 86090.33\n",
      "Lifestyle : 16485.76\n",
      "Entertainment : 14029.83\n",
      "Food & Drink : 33333.92\n",
      "Sports : 23008.90\n",
      "Book : 39758.50\n",
      "Finance : 31467.94\n",
      "Education : 7003.98\n",
      "Productivity : 21028.41\n",
      "Business : 7491.12\n",
      "Catalogs : 4004.00\n",
      "Medical : 612.00\n"
     ]
    }
   ],
   "source": [
    "for genre in apple_genre:\n",
    "    total = 0\n",
    "    len_genre = 0\n",
    "    for row in apple_dataset:\n",
    "        genre_app = row[11]\n",
    "        if genre_app == genre:\n",
    "            n_ratings = float(row[5])\n",
    "            total += n_ratings\n",
    "            len_genre += 1\n",
    "    avg_n_ratings = '{0:.2f}'.format(total / len_genre)\n",
    "    print(genre, ':', avg_n_ratings)"
   ]
  },
  {
   "cell_type": "markdown",
   "metadata": {},
   "source": [
    "On average, Navigation apps have the highest number of user ratings, however when we look more into the apps under Navigation genre, most of the ratings come from Google Maps and Waze, which heavily skewed the number to the right. Below, we'll look at which apps are placed under `Navigation` genre."
   ]
  },
  {
   "cell_type": "code",
   "execution_count": 19,
   "metadata": {
    "scrolled": true
   },
   "outputs": [
    {
     "name": "stdout",
     "output_type": "stream",
     "text": [
      "Waze - GPS Navigation, Maps & Real-time Traffic : 345046\n",
      "Google Maps - Navigation & Transit : 154911\n",
      "Geocaching® : 12811\n",
      "CoPilot GPS – Car Navigation & Offline Maps : 3582\n",
      "ImmobilienScout24: Real Estate Search in Germany : 187\n",
      "Railway Route Search : 5\n"
     ]
    }
   ],
   "source": [
    "for app in apple_dataset:\n",
    "    if app[-5] == 'Navigation':\n",
    "        print(app[1], ':', app[5]) # print name and number of ratings"
   ]
  },
  {
   "cell_type": "markdown",
   "metadata": {},
   "source": [
    "Although `Nagivation` genre has the highest number of ratings on average, our goal is to build apps that needs to generate income through advertisement and such an app will not gain support by majority if it will be created for people to use while operating vehicles. \n",
    "\n",
    "Let's move on to Google Play data set."
   ]
  },
  {
   "cell_type": "code",
   "execution_count": 20,
   "metadata": {},
   "outputs": [
    {
     "name": "stdout",
     "output_type": "stream",
     "text": [
      "ART_AND_DESIGN : 1986335.09\n",
      "AUTO_AND_VEHICLES : 647317.82\n",
      "BEAUTY : 513151.89\n",
      "BOOKS_AND_REFERENCE : 8767811.89\n",
      "BUSINESS : 1712290.15\n",
      "COMICS : 817657.27\n",
      "COMMUNICATION : 38456119.17\n",
      "DATING : 854028.83\n",
      "EDUCATION : 1833495.15\n",
      "ENTERTAINMENT : 11640705.88\n",
      "EVENTS : 253542.22\n",
      "FINANCE : 1387692.48\n",
      "FOOD_AND_DRINK : 1924897.74\n",
      "HEALTH_AND_FITNESS : 4188821.99\n",
      "HOUSE_AND_HOME : 1331540.56\n",
      "LIBRARIES_AND_DEMO : 638503.73\n",
      "LIFESTYLE : 1437816.27\n",
      "GAME : 15588015.60\n",
      "FAMILY : 3695641.82\n",
      "MEDICAL : 120550.62\n",
      "SOCIAL : 23253652.13\n",
      "SHOPPING : 7036877.31\n",
      "PHOTOGRAPHY : 17840110.40\n",
      "SPORTS : 3638640.14\n",
      "TRAVEL_AND_LOCAL : 13984077.71\n",
      "TOOLS : 10801391.30\n",
      "PERSONALIZATION : 5201482.61\n",
      "PRODUCTIVITY : 16787331.34\n",
      "PARENTING : 542603.62\n",
      "WEATHER : 5074486.20\n",
      "VIDEO_PLAYERS : 24727872.45\n",
      "NEWS_AND_MAGAZINES : 9549178.47\n",
      "MAPS_AND_NAVIGATION : 4056941.77\n"
     ]
    }
   ],
   "source": [
    "for category in google_category:\n",
    "    total = 0\n",
    "    len_category = 0\n",
    "    for row in google_dataset:\n",
    "        category_app = row[1]\n",
    "        if category_app == category:\n",
    "            n_installs = row[5]\n",
    "            n_installs = n_installs.replace('+','')\n",
    "            n_installs = n_installs.replace(',','')\n",
    "            total += float(n_installs)\n",
    "            len_category += 1\n",
    "    avg_n_installs = total / len_category\n",
    "    avg_n_installs = '{0:.2f}'.format(avg_n_installs)\n",
    "    print(category, ':', avg_n_installs)"
   ]
  },
  {
   "cell_type": "markdown",
   "metadata": {},
   "source": [
    "We can see after pulling the values from `Category` column, we end up with Communication category to be the most popular in terms of number of installs.\n",
    "\n",
    "We are going to do analyze the frequency table for the `Genre` column of the Google Play data set, then we can make more thorough observation of the market."
   ]
  },
  {
   "cell_type": "code",
   "execution_count": 21,
   "metadata": {},
   "outputs": [
    {
     "name": "stdout",
     "output_type": "stream",
     "text": [
      "Art & Design : 2122850.94\n",
      "Art & Design;Creativity : 285000.00\n",
      "Auto & Vehicles : 647317.82\n",
      "Beauty : 513151.89\n",
      "Books & Reference : 8767811.89\n",
      "Business : 1712290.15\n",
      "Comics : 831873.15\n",
      "Comics;Creativity : 50000.00\n",
      "Communication : 38456119.17\n",
      "Dating : 854028.83\n",
      "Education : 550185.44\n",
      "Education;Creativity : 2875000.00\n",
      "Education;Education : 4759517.00\n",
      "Education;Pretend Play : 1800000.00\n",
      "Education;Brain Games : 5333333.33\n",
      "Entertainment : 5602792.78\n",
      "Entertainment;Brain Games : 3314285.71\n",
      "Entertainment;Creativity : 4000000.00\n",
      "Entertainment;Music & Video : 6413333.33\n",
      "Events : 253542.22\n",
      "Finance : 1387692.48\n",
      "Food & Drink : 1924897.74\n",
      "Health & Fitness : 4188821.99\n",
      "House & Home : 1331540.56\n",
      "Libraries & Demo : 638503.73\n",
      "Lifestyle : 1412998.34\n",
      "Lifestyle;Pretend Play : 10000000.00\n",
      "Card : 3815462.50\n",
      "Arcade : 22888365.49\n",
      "Puzzle : 8302861.91\n",
      "Racing : 15910645.68\n",
      "Sports : 4596842.62\n",
      "Casual : 19569221.60\n",
      "Simulation : 3475484.09\n",
      "Adventure : 4922785.33\n",
      "Trivia : 3475712.70\n",
      "Action : 12603588.87\n",
      "Word : 9094458.70\n",
      "Role Playing : 3965645.42\n",
      "Strategy : 11199902.53\n",
      "Board : 4759209.12\n",
      "Music : 9445583.33\n",
      "Action;Action & Adventure : 5888888.89\n",
      "Casual;Brain Games : 1425916.67\n",
      "Educational;Creativity : 2333333.33\n",
      "Puzzle;Brain Games : 9280666.67\n",
      "Educational;Education : 1737143.14\n",
      "Casual;Pretend Play : 6957142.86\n",
      "Educational;Brain Games : 4433333.33\n",
      "Art & Design;Pretend Play : 500000.00\n",
      "Educational;Pretend Play : 9375000.00\n",
      "Entertainment;Education : 1000000.00\n",
      "Casual;Education : 1000000.00\n",
      "Casual;Creativity : 5333333.33\n",
      "Casual;Action & Adventure : 12916666.67\n",
      "Music;Music & Video : 5050000.00\n",
      "Arcade;Pretend Play : 1000000.00\n",
      "Adventure;Action & Adventure : 35333333.33\n",
      "Role Playing;Action & Adventure : 7000000.00\n",
      "Simulation;Pretend Play : 550000.00\n",
      "Puzzle;Creativity : 750000.00\n",
      "Simulation;Action & Adventure : 4857142.86\n",
      "Racing;Action & Adventure : 8816666.67\n",
      "Sports;Action & Adventure : 5050000.00\n",
      "Educational;Action & Adventure : 17016666.67\n",
      "Arcade;Action & Adventure : 3190909.18\n",
      "Entertainment;Action & Adventure : 2333333.33\n",
      "Art & Design;Action & Adventure : 100000.00\n",
      "Puzzle;Action & Adventure : 18366666.67\n",
      "Education;Action & Adventure : 1000000.00\n",
      "Strategy;Action & Adventure : 1000000.00\n",
      "Music & Audio;Music & Video : 500000.00\n",
      "Health & Fitness;Education : 100000.00\n",
      "Board;Action & Adventure : 3000000.00\n",
      "Board;Brain Games : 407142.86\n",
      "Casual;Music & Video : 10000000.00\n",
      "Education;Music & Video : 2033333.33\n",
      "Role Playing;Pretend Play : 5275000.00\n",
      "Entertainment;Pretend Play : 3000000.00\n",
      "Medical : 120550.62\n",
      "Social : 23253652.13\n",
      "Shopping : 7036877.31\n",
      "Photography : 17840110.40\n",
      "Travel & Local : 14051476.15\n",
      "Travel & Local;Action & Adventure : 100000.00\n",
      "Tools : 10802461.25\n",
      "Tools;Education : 10000000.00\n",
      "Personalization : 5201482.61\n",
      "Productivity : 16787331.34\n",
      "Parenting : 467977.50\n",
      "Parenting;Music & Video : 1118333.33\n",
      "Parenting;Education : 452857.14\n",
      "Parenting;Brain Games : 1000000.00\n",
      "Weather : 5074486.20\n",
      "Video Players & Editors : 24947335.80\n",
      "Video Players & Editors;Music & Video : 7500000.00\n",
      "Video Players & Editors;Creativity : 5000000.00\n",
      "News & Magazines : 9549178.47\n",
      "Maps & Navigation : 4056941.77\n",
      "Health & Fitness;Action & Adventure : 1000000.00\n",
      "Educational : 411184.85\n",
      "Casino : 3427910.53\n",
      "Trivia;Education : 100.00\n",
      "Lifestyle;Education : 100000.00\n",
      "Card;Action & Adventure : 10000000.00\n",
      "Books & Reference;Education : 1000.00\n",
      "Simulation;Education : 500.00\n",
      "Puzzle;Education : 100000.00\n",
      "Adventure;Education : 10000000.00\n",
      "Role Playing;Brain Games : 10000000.00\n",
      "Strategy;Education : 500000.00\n",
      "Racing;Pretend Play : 1000000.00\n",
      "Communication;Creativity : 500000.00\n",
      "Strategy;Creativity : 1000000.00\n"
     ]
    }
   ],
   "source": [
    "for genre in google_genre:\n",
    "    total = 0\n",
    "    len_genre = 0\n",
    "    for row in google_dataset:\n",
    "        app_genre = row[9]\n",
    "        if app_genre == genre:\n",
    "            n_installs = row[5]\n",
    "            n_installs = n_installs.replace('+','')\n",
    "            n_installs = n_installs.replace(',','')\n",
    "            total += float(n_installs)\n",
    "            len_genre += 1\n",
    "    avg_n_installs = total / len_genre\n",
    "    avg_n_installs = '{0:.2f}'.format(avg_n_installs)\n",
    "    print(genre, ':', avg_n_installs)"
   ]
  },
  {
   "cell_type": "markdown",
   "metadata": {},
   "source": [
    "According to the Google Play data set, `Communication` is by far on top of the list of the most installs app genre for Google Play market. This can be easily understood by looking at the trend of the world recently as more phones gradually become rather a necessity to function simple daily tasks, thus, the demand for communication grows exponentially since it has become more and more simple with just few clicks of button. Plus, generating revenue from ads utilizing through communication application profile is practical due to the strong cross-platform features between communication application.\n",
    "\n",
    "However, there is a concern about the skewedness of the `Communication` data, despise of huge number of user installs, they are mostly dominated by a few big names such as Facebook Messenger, Whatsapp, Skype, etc. This just shows that although users high demand for quick, efficient, and trendy communication platform, we are at the odds of having to win over the big guys. Therefore, we are going to look at other alternatives idea.\n",
    "\n",
    "Let's turn to a different genre but also relatively high number of installs - `Adventure;Action & Adventure`. Below, we analyze which apps placed in such genre."
   ]
  },
  {
   "cell_type": "code",
   "execution_count": 24,
   "metadata": {},
   "outputs": [
    {
     "name": "stdout",
     "output_type": "stream",
     "text": [
      "Leo and Tig : 1,000,000+\n",
      "Transformers Rescue Bots: Hero Adventures : 5,000,000+\n",
      "ROBLOX : 100,000,000+\n"
     ]
    }
   ],
   "source": [
    "for app in google_dataset:\n",
    "    if app[9] == 'Adventure;Action & Adventure':\n",
    "        print(app[0], ':', app[5])"
   ]
  },
  {
   "cell_type": "markdown",
   "metadata": {},
   "source": [
    "`ROBLOX` has been a giant among the games designed for everyone. However, `Games` genre is usually a very versatile and efficient way to achieve large revenue flow from advertisements, since they have the possibility to be interacted with the game itself (watching an ad to gain one more life). Furthermore, `Games` is not only popular within Google Play market, it also dominates the App Store market, which opens a lot more potential to the developers team and our clients, scalability and profit wise. \n",
    "\n",
    "**Conclusions**\n",
    "\n",
    "In this project, we analyzed data about the App Store and Google Play mobile apps with the goal of recommending an app profile that can be profitable for both markets.\n",
    "\n",
    "We have made some analysis and observations in both given Google Play and App Store data sets and we would like to proceed with the idea of building an application profile within `Games` genre, a multiplayer platform where players are placed into open world map and need to fight each other or cooperate to survive. "
   ]
  },
  {
   "cell_type": "code",
   "execution_count": null,
   "metadata": {},
   "outputs": [],
   "source": []
  }
 ],
 "metadata": {
  "kernelspec": {
   "display_name": "Python 3",
   "language": "python",
   "name": "python3"
  },
  "language_info": {
   "codemirror_mode": {
    "name": "ipython",
    "version": 3
   },
   "file_extension": ".py",
   "mimetype": "text/x-python",
   "name": "python",
   "nbconvert_exporter": "python",
   "pygments_lexer": "ipython3",
   "version": "3.8.2"
  }
 },
 "nbformat": 4,
 "nbformat_minor": 2
}
